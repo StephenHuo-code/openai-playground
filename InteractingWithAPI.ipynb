{
 "cells": [
  {
   "cell_type": "markdown",
   "metadata": {},
   "source": [
    "![Alt text](image.png)"
   ]
  },
  {
   "cell_type": "code",
   "execution_count": 1,
   "metadata": {},
   "outputs": [
    {
     "name": "stderr",
     "output_type": "stream",
     "text": [
      "Attempting to load an OpenAPI 3.0.1 spec.  This may result in degraded performance. Convert your OpenAPI spec to 3.1.* spec for better support.\n"
     ]
    },
    {
     "data": {
      "text/plain": [
       "{'query': \"What are some options for a men's large blue button down shirt\",\n",
       " 'response': {'products': [{'name': 'Polo Ralph Lauren Oxford Long Sleeve Button-down Shirt',\n",
       "    'url': 'https://www.klarna.com/us/shopping/pl/cl10001/3208626005/Clothing/Polo-Ralph-Lauren-Oxford-Long-Sleeve-Button-down-Shirt/?utm_source=openai&ref-site=openai_plugin',\n",
       "    'price': '$87.50',\n",
       "    'attributes': ['Material:Cotton',\n",
       "     'Target Group:Man',\n",
       "     'Color:Blue',\n",
       "     'Size (Small-Large):S,XL,XS,L,M,XXL']},\n",
       "   {'name': \"Columbia Men's Navy Dallas Cowboys Tamiami Omni-Shade Button-Down Shirt\",\n",
       "    'url': 'https://www.klarna.com/us/shopping/pl/cl10001/3208146933/Clothing/Columbia-Men-s-Navy-Dallas-Cowboys-Tamiami-Omni-Shade-Button-Down-Shirt/?utm_source=openai&ref-site=openai_plugin',\n",
       "    'price': '$11.92',\n",
       "    'attributes': ['Material:Polyester',\n",
       "     'Target Group:Man',\n",
       "     'Color:Blue',\n",
       "     'Size (Small-Large):S,XL,L,M,XXL']},\n",
       "   {'name': 'Polo Ralph Lauren Classic Fit Garment-Dyed Oxford Shirt Bastille Blue',\n",
       "    'url': 'https://www.klarna.com/us/shopping/pl/cl10001/3207645344/Clothing/Polo-Ralph-Lauren-Classic-Fit-Garment-Dyed-Oxford-Shirt-Bastille-Blue/?utm_source=openai&ref-site=openai_plugin',\n",
       "    'price': '$87.50',\n",
       "    'attributes': ['Material:Cotton',\n",
       "     'Target Group:Man',\n",
       "     'Color:Blue',\n",
       "     'Size (Small-Large):S,XL,L,M,XXL']},\n",
       "   {'name': 'Wrangler Mens Regular Fit Long Sleeve Button-Down Shirt',\n",
       "    'url': 'https://www.klarna.com/us/shopping/pl/cl10001/3201941362/Clothing/Wrangler-Mens-Regular-Fit-Long-Sleeve-Button-Down-Shirt/?utm_source=openai&ref-site=openai_plugin',\n",
       "    'price': '$26.99',\n",
       "    'attributes': ['Material:Cotton',\n",
       "     'Target Group:Man',\n",
       "     'Color:Blue',\n",
       "     'Size (Small-Large):L,M,XXL']},\n",
       "   {'name': \"Men's Business Geometric Long Sleeve Button Down Shirt Navy Navy\",\n",
       "    'url': 'https://www.klarna.com/us/shopping/pl/cl10001/3206528236/Clothing/Men-s-Business-Geometric-Long-Sleeve-Button-Down-Shirt-Navy-Navy/?utm_source=openai&ref-site=openai_plugin',\n",
       "    'price': '$29.97',\n",
       "    'attributes': ['Target Group:Man',\n",
       "     'Color:Blue',\n",
       "     'Size (Small-Large):S,XL,L,M,XXL']}]}}"
      ]
     },
     "execution_count": 1,
     "metadata": {},
     "output_type": "execute_result"
    }
   ],
   "source": [
    "from langchain.chains.openai_functions.openapi import get_openapi_chain\n",
    "\n",
    "chain = get_openapi_chain(\n",
    "    \"https://www.klarna.com/us/shopping/public/openai/v0/api-docs/\"\n",
    ")\n",
    "chain(\"What are some options for a men's large blue button down shirt\")"
   ]
  },
  {
   "cell_type": "code",
   "execution_count": 2,
   "metadata": {},
   "outputs": [
    {
     "name": "stderr",
     "output_type": "stream",
     "text": [
      "Attempting to load an OpenAPI 3.0.1 spec.  This may result in degraded performance. Convert your OpenAPI spec to 3.1.* spec for better support.\n"
     ]
    },
    {
     "data": {
      "text/plain": [
       "{'query': \"What are some options for a men's large blue button down shirt\",\n",
       " 'response': {'products': [{'name': 'Polo Ralph Lauren Oxford Long Sleeve Button-down Shirt',\n",
       "    'url': 'https://www.klarna.com/us/shopping/pl/cl10001/3208626005/Clothing/Polo-Ralph-Lauren-Oxford-Long-Sleeve-Button-down-Shirt/?utm_source=openai&ref-site=openai_plugin',\n",
       "    'price': '$87.50',\n",
       "    'attributes': ['Material:Cotton',\n",
       "     'Target Group:Man',\n",
       "     'Color:Blue',\n",
       "     'Size (Small-Large):S,XL,XS,L,M,XXL']},\n",
       "   {'name': \"Columbia Men's Navy Dallas Cowboys Tamiami Omni-Shade Button-Down Shirt\",\n",
       "    'url': 'https://www.klarna.com/us/shopping/pl/cl10001/3208146933/Clothing/Columbia-Men-s-Navy-Dallas-Cowboys-Tamiami-Omni-Shade-Button-Down-Shirt/?utm_source=openai&ref-site=openai_plugin',\n",
       "    'price': '$11.92',\n",
       "    'attributes': ['Material:Polyester',\n",
       "     'Target Group:Man',\n",
       "     'Color:Blue',\n",
       "     'Size (Small-Large):S,XL,L,M,XXL']},\n",
       "   {'name': 'Polo Ralph Lauren Classic Fit Garment-Dyed Oxford Shirt Bastille Blue',\n",
       "    'url': 'https://www.klarna.com/us/shopping/pl/cl10001/3207645344/Clothing/Polo-Ralph-Lauren-Classic-Fit-Garment-Dyed-Oxford-Shirt-Bastille-Blue/?utm_source=openai&ref-site=openai_plugin',\n",
       "    'price': '$87.50',\n",
       "    'attributes': ['Material:Cotton',\n",
       "     'Target Group:Man',\n",
       "     'Color:Blue',\n",
       "     'Size (Small-Large):S,XL,L,M,XXL']},\n",
       "   {'name': 'Wrangler Mens Regular Fit Long Sleeve Button-Down Shirt',\n",
       "    'url': 'https://www.klarna.com/us/shopping/pl/cl10001/3201941362/Clothing/Wrangler-Mens-Regular-Fit-Long-Sleeve-Button-Down-Shirt/?utm_source=openai&ref-site=openai_plugin',\n",
       "    'price': '$26.99',\n",
       "    'attributes': ['Material:Cotton',\n",
       "     'Target Group:Man',\n",
       "     'Color:Blue',\n",
       "     'Size (Small-Large):L,M,XXL']},\n",
       "   {'name': \"Men's Business Geometric Long Sleeve Button Down Shirt Navy Navy\",\n",
       "    'url': 'https://www.klarna.com/us/shopping/pl/cl10001/3206528236/Clothing/Men-s-Business-Geometric-Long-Sleeve-Button-Down-Shirt-Navy-Navy/?utm_source=openai&ref-site=openai_plugin',\n",
       "    'price': '$29.97',\n",
       "    'attributes': ['Target Group:Man',\n",
       "     'Color:Blue',\n",
       "     'Size (Small-Large):S,XL,L,M,XXL']}]}}"
      ]
     },
     "execution_count": 2,
     "metadata": {},
     "output_type": "execute_result"
    }
   ],
   "source": [
    "from langchain.chains.openai_functions.openapi import get_openapi_chain\n",
    "\n",
    "chain = get_openapi_chain(\n",
    "    \"https://www.klarna.com/us/shopping/public/openai/v0/api-docs/\"\n",
    ")\n",
    "chain(\"What are some options for a men's large blue button down shirt\")"
   ]
  }
 ],
 "metadata": {
  "kernelspec": {
   "display_name": "env_openai",
   "language": "python",
   "name": "python3"
  },
  "language_info": {
   "codemirror_mode": {
    "name": "ipython",
    "version": 3
   },
   "file_extension": ".py",
   "mimetype": "text/x-python",
   "name": "python",
   "nbconvert_exporter": "python",
   "pygments_lexer": "ipython3",
   "version": "3.11.4"
  }
 },
 "nbformat": 4,
 "nbformat_minor": 2
}
